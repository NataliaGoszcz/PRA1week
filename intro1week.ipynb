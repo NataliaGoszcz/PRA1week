{
 "cells": [
  {
   "cell_type": "code",
   "execution_count": 2,
   "id": "f5ae2569-3322-4d16-851d-89f523e60be9",
   "metadata": {
    "tags": []
   },
   "outputs": [],
   "source": [
    "import numpy as np"
   ]
  },
  {
   "cell_type": "code",
   "execution_count": 4,
   "id": "cb216233-128a-4d2e-bd70-9e9564d9bc03",
   "metadata": {
    "tags": []
   },
   "outputs": [
    {
     "name": "stdout",
     "output_type": "stream",
     "text": [
      "Nat\n"
     ]
    }
   ],
   "source": [
    "print(\"Nat\")"
   ]
  },
  {
   "cell_type": "code",
   "execution_count": null,
   "id": "2e2e9841-4851-487b-aa07-f891a15e66f3",
   "metadata": {},
   "outputs": [],
   "source": []
  }
 ],
 "metadata": {
  "kernelspec": {
   "display_name": "Python 3 (ipykernel)",
   "language": "python",
   "name": "python3"
  },
  "language_info": {
   "codemirror_mode": {
    "name": "ipython",
    "version": 3
   },
   "file_extension": ".py",
   "mimetype": "text/x-python",
   "name": "python",
   "nbconvert_exporter": "python",
   "pygments_lexer": "ipython3",
   "version": "3.8.13"
  }
 },
 "nbformat": 4,
 "nbformat_minor": 5
}
